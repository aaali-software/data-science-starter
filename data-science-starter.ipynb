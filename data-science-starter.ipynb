{
 "cells": [
  {
   "cell_type": "code",
   "execution_count": 1,
   "metadata": {
    "collapsed": true,
    "pycharm": {
     "is_executing": false
    }
   },
   "outputs": [],
   "source": [
    "import pandas as pd\n",
    "import numpy as np\n",
    "import matplotlib as mpl\n",
    "import matplotlib.pyplot as plt"
   ]
  },
  {
   "cell_type": "code",
   "execution_count": 2,
   "outputs": [
    {
     "name": "stdout",
     "text": [
      "Python 3.7.9\n"
     ],
     "output_type": "stream"
    }
   ],
   "source": [
    "!python --version"
   ],
   "metadata": {
    "collapsed": false,
    "pycharm": {
     "name": "#%%\n",
     "is_executing": false
    }
   }
  },
  {
   "cell_type": "code",
   "execution_count": 3,
   "outputs": [
    {
     "data": {
      "text/plain": "'3.3.2'"
     },
     "metadata": {},
     "output_type": "execute_result",
     "execution_count": 3
    }
   ],
   "source": [
    "mpl.__version__"
   ],
   "metadata": {
    "collapsed": false,
    "pycharm": {
     "name": "#%%\n",
     "is_executing": false
    }
   }
  },
  {
   "cell_type": "code",
   "execution_count": 4,
   "outputs": [
    {
     "data": {
      "text/plain": "'1.1.2'"
     },
     "metadata": {},
     "output_type": "execute_result",
     "execution_count": 4
    }
   ],
   "source": [
    "pd.__version__"
   ],
   "metadata": {
    "collapsed": false,
    "pycharm": {
     "name": "#%%\n",
     "is_executing": false
    }
   }
  },
  {
   "cell_type": "code",
   "execution_count": 5,
   "outputs": [],
   "source": [
    "crude_oil_data = pd.read_csv('data/U.S._crude_oil_production.csv')\n",
    "crude_gas_data = pd.read_csv('data/U.S._natural_gas_production.csv')"
   ],
   "metadata": {
    "collapsed": false,
    "pycharm": {
     "name": "#%%\n",
     "is_executing": false
    }
   }
  },
  {
   "cell_type": "code",
   "execution_count": 6,
   "outputs": [
    {
     "data": {
      "text/plain": "        Month  U.S. Crude Oil   Alabama  Alaska  Arkansas  Arizona  \\\n0  2008-06-01             5138       21     655        17        0   \n1  2008-07-01             5177       21     640        17        0   \n2  2008-08-01             5003       21     544        17        0   \n3  2008-09-01             3974       21     681        16        0   \n4  2008-10-01             4738       21     716        17        0   \n\n   California  Colorado  Federal Offshore Gulf of Mexico Crude Oil  \\\n0         583        82                                       1326   \n1         586        81                                       1372   \n2         588        82                                       1272   \n3         587        88                                        242   \n4         586        86                                        803   \n\n   Federal Offshore Pacific Crude Oil  ...  Ohio  Oklahoma  Pennsylvania  \\\n0                                  67  ...    14       186             8   \n1                                  61  ...    14       184             8   \n2                                  70  ...    14       188             8   \n3                                  67  ...    14       186             8   \n4                                  66  ...    14       185             8   \n\n   South Dakota  Wyoming  West Virginia  Virginia  Utah  Texas  Tennessee  \n0             5      144              6         0    60   1097          1  \n1             5      145              5         0    61   1111          1  \n2             5      145              6         0    62   1110          1  \n3             5      144              6         0    63   1055          1  \n4             5      145              6         0    64   1125          1  \n\n[5 rows x 36 columns]",
      "text/html": "<div>\n<style scoped>\n    .dataframe tbody tr th:only-of-type {\n        vertical-align: middle;\n    }\n\n    .dataframe tbody tr th {\n        vertical-align: top;\n    }\n\n    .dataframe thead th {\n        text-align: right;\n    }\n</style>\n<table border=\"1\" class=\"dataframe\">\n  <thead>\n    <tr style=\"text-align: right;\">\n      <th></th>\n      <th>Month</th>\n      <th>U.S. Crude Oil</th>\n      <th>Alabama</th>\n      <th>Alaska</th>\n      <th>Arkansas</th>\n      <th>Arizona</th>\n      <th>California</th>\n      <th>Colorado</th>\n      <th>Federal Offshore Gulf of Mexico Crude Oil</th>\n      <th>Federal Offshore Pacific Crude Oil</th>\n      <th>...</th>\n      <th>Ohio</th>\n      <th>Oklahoma</th>\n      <th>Pennsylvania</th>\n      <th>South Dakota</th>\n      <th>Wyoming</th>\n      <th>West Virginia</th>\n      <th>Virginia</th>\n      <th>Utah</th>\n      <th>Texas</th>\n      <th>Tennessee</th>\n    </tr>\n  </thead>\n  <tbody>\n    <tr>\n      <th>0</th>\n      <td>2008-06-01</td>\n      <td>5138</td>\n      <td>21</td>\n      <td>655</td>\n      <td>17</td>\n      <td>0</td>\n      <td>583</td>\n      <td>82</td>\n      <td>1326</td>\n      <td>67</td>\n      <td>...</td>\n      <td>14</td>\n      <td>186</td>\n      <td>8</td>\n      <td>5</td>\n      <td>144</td>\n      <td>6</td>\n      <td>0</td>\n      <td>60</td>\n      <td>1097</td>\n      <td>1</td>\n    </tr>\n    <tr>\n      <th>1</th>\n      <td>2008-07-01</td>\n      <td>5177</td>\n      <td>21</td>\n      <td>640</td>\n      <td>17</td>\n      <td>0</td>\n      <td>586</td>\n      <td>81</td>\n      <td>1372</td>\n      <td>61</td>\n      <td>...</td>\n      <td>14</td>\n      <td>184</td>\n      <td>8</td>\n      <td>5</td>\n      <td>145</td>\n      <td>5</td>\n      <td>0</td>\n      <td>61</td>\n      <td>1111</td>\n      <td>1</td>\n    </tr>\n    <tr>\n      <th>2</th>\n      <td>2008-08-01</td>\n      <td>5003</td>\n      <td>21</td>\n      <td>544</td>\n      <td>17</td>\n      <td>0</td>\n      <td>588</td>\n      <td>82</td>\n      <td>1272</td>\n      <td>70</td>\n      <td>...</td>\n      <td>14</td>\n      <td>188</td>\n      <td>8</td>\n      <td>5</td>\n      <td>145</td>\n      <td>6</td>\n      <td>0</td>\n      <td>62</td>\n      <td>1110</td>\n      <td>1</td>\n    </tr>\n    <tr>\n      <th>3</th>\n      <td>2008-09-01</td>\n      <td>3974</td>\n      <td>21</td>\n      <td>681</td>\n      <td>16</td>\n      <td>0</td>\n      <td>587</td>\n      <td>88</td>\n      <td>242</td>\n      <td>67</td>\n      <td>...</td>\n      <td>14</td>\n      <td>186</td>\n      <td>8</td>\n      <td>5</td>\n      <td>144</td>\n      <td>6</td>\n      <td>0</td>\n      <td>63</td>\n      <td>1055</td>\n      <td>1</td>\n    </tr>\n    <tr>\n      <th>4</th>\n      <td>2008-10-01</td>\n      <td>4738</td>\n      <td>21</td>\n      <td>716</td>\n      <td>17</td>\n      <td>0</td>\n      <td>586</td>\n      <td>86</td>\n      <td>803</td>\n      <td>66</td>\n      <td>...</td>\n      <td>14</td>\n      <td>185</td>\n      <td>8</td>\n      <td>5</td>\n      <td>145</td>\n      <td>6</td>\n      <td>0</td>\n      <td>64</td>\n      <td>1125</td>\n      <td>1</td>\n    </tr>\n  </tbody>\n</table>\n<p>5 rows × 36 columns</p>\n</div>"
     },
     "metadata": {},
     "output_type": "execute_result",
     "execution_count": 6
    }
   ],
   "source": [
    "crude_oil_data.head(5)"
   ],
   "metadata": {
    "collapsed": false,
    "pycharm": {
     "name": "#%%\n",
     "is_executing": false
    }
   }
  },
  {
   "cell_type": "code",
   "execution_count": 7,
   "outputs": [
    {
     "data": {
      "text/plain": "        Month   U.S.  Alaska  Arkansas  Kansas  Other States  \\\n0  2008-06-01  70626    8875      1196    1024          2995   \n1  2008-07-01  71137    8375      1256    1034          3150   \n2  2008-08-01  70760    8739      1313    1033          3092   \n3  2008-09-01  63984    9221      1316    1032          2953   \n4  2008-10-01  69464    9674      1375    1026          3113   \n\n   Federal Offshore--Gulf of Mexico  Wyoming  West Virginia  Utah  \\\n0                              7339     6839            670  1198   \n1                              7468     6940            674  1200   \n2                              6868     6835            678  1277   \n3                              2100     6447            657  1276   \n4                              4368     6909            692  1241   \n\n   Pennsylvania  Texas  Oklahoma  Ohio  North Dakota  New Mexico  Montana  \\\n0           540  21446      5241   224           243        3975      323   \n1           512  21547      5256   220           243        4179      324   \n2           529  21777      4896   220           249        4092      327   \n3           542  20435      5224   224           260        4069      330   \n4           543  21948      5126   236           267        4168      330   \n\n   Louisiana  Colorado  California  \n0       3989      3576         932  \n1       4008      3834         919  \n2       3896      4056         881  \n3       2960      4049         890  \n4       3718      3860         870  ",
      "text/html": "<div>\n<style scoped>\n    .dataframe tbody tr th:only-of-type {\n        vertical-align: middle;\n    }\n\n    .dataframe tbody tr th {\n        vertical-align: top;\n    }\n\n    .dataframe thead th {\n        text-align: right;\n    }\n</style>\n<table border=\"1\" class=\"dataframe\">\n  <thead>\n    <tr style=\"text-align: right;\">\n      <th></th>\n      <th>Month</th>\n      <th>U.S.</th>\n      <th>Alaska</th>\n      <th>Arkansas</th>\n      <th>Kansas</th>\n      <th>Other States</th>\n      <th>Federal Offshore--Gulf of Mexico</th>\n      <th>Wyoming</th>\n      <th>West Virginia</th>\n      <th>Utah</th>\n      <th>Pennsylvania</th>\n      <th>Texas</th>\n      <th>Oklahoma</th>\n      <th>Ohio</th>\n      <th>North Dakota</th>\n      <th>New Mexico</th>\n      <th>Montana</th>\n      <th>Louisiana</th>\n      <th>Colorado</th>\n      <th>California</th>\n    </tr>\n  </thead>\n  <tbody>\n    <tr>\n      <th>0</th>\n      <td>2008-06-01</td>\n      <td>70626</td>\n      <td>8875</td>\n      <td>1196</td>\n      <td>1024</td>\n      <td>2995</td>\n      <td>7339</td>\n      <td>6839</td>\n      <td>670</td>\n      <td>1198</td>\n      <td>540</td>\n      <td>21446</td>\n      <td>5241</td>\n      <td>224</td>\n      <td>243</td>\n      <td>3975</td>\n      <td>323</td>\n      <td>3989</td>\n      <td>3576</td>\n      <td>932</td>\n    </tr>\n    <tr>\n      <th>1</th>\n      <td>2008-07-01</td>\n      <td>71137</td>\n      <td>8375</td>\n      <td>1256</td>\n      <td>1034</td>\n      <td>3150</td>\n      <td>7468</td>\n      <td>6940</td>\n      <td>674</td>\n      <td>1200</td>\n      <td>512</td>\n      <td>21547</td>\n      <td>5256</td>\n      <td>220</td>\n      <td>243</td>\n      <td>4179</td>\n      <td>324</td>\n      <td>4008</td>\n      <td>3834</td>\n      <td>919</td>\n    </tr>\n    <tr>\n      <th>2</th>\n      <td>2008-08-01</td>\n      <td>70760</td>\n      <td>8739</td>\n      <td>1313</td>\n      <td>1033</td>\n      <td>3092</td>\n      <td>6868</td>\n      <td>6835</td>\n      <td>678</td>\n      <td>1277</td>\n      <td>529</td>\n      <td>21777</td>\n      <td>4896</td>\n      <td>220</td>\n      <td>249</td>\n      <td>4092</td>\n      <td>327</td>\n      <td>3896</td>\n      <td>4056</td>\n      <td>881</td>\n    </tr>\n    <tr>\n      <th>3</th>\n      <td>2008-09-01</td>\n      <td>63984</td>\n      <td>9221</td>\n      <td>1316</td>\n      <td>1032</td>\n      <td>2953</td>\n      <td>2100</td>\n      <td>6447</td>\n      <td>657</td>\n      <td>1276</td>\n      <td>542</td>\n      <td>20435</td>\n      <td>5224</td>\n      <td>224</td>\n      <td>260</td>\n      <td>4069</td>\n      <td>330</td>\n      <td>2960</td>\n      <td>4049</td>\n      <td>890</td>\n    </tr>\n    <tr>\n      <th>4</th>\n      <td>2008-10-01</td>\n      <td>69464</td>\n      <td>9674</td>\n      <td>1375</td>\n      <td>1026</td>\n      <td>3113</td>\n      <td>4368</td>\n      <td>6909</td>\n      <td>692</td>\n      <td>1241</td>\n      <td>543</td>\n      <td>21948</td>\n      <td>5126</td>\n      <td>236</td>\n      <td>267</td>\n      <td>4168</td>\n      <td>330</td>\n      <td>3718</td>\n      <td>3860</td>\n      <td>870</td>\n    </tr>\n  </tbody>\n</table>\n</div>"
     },
     "metadata": {},
     "output_type": "execute_result",
     "execution_count": 7
    }
   ],
   "source": [
    "crude_gas_data.head(5)\n",
    "\n"
   ],
   "metadata": {
    "collapsed": false,
    "pycharm": {
     "name": "#%%\n",
     "is_executing": false
    }
   }
  }
 ],
 "metadata": {
  "kernelspec": {
   "display_name": "Python 3",
   "language": "python",
   "name": "python3"
  },
  "language_info": {
   "codemirror_mode": {
    "name": "ipython",
    "version": 2
   },
   "file_extension": ".py",
   "mimetype": "text/x-python",
   "name": "python",
   "nbconvert_exporter": "python",
   "pygments_lexer": "ipython2",
   "version": "2.7.6"
  },
  "pycharm": {
   "stem_cell": {
    "cell_type": "raw",
    "source": [],
    "metadata": {
     "collapsed": false
    }
   }
  }
 },
 "nbformat": 4,
 "nbformat_minor": 0
}