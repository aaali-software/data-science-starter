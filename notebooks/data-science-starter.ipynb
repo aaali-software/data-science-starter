{
 "cells": [
  {
   "cell_type": "code",
   "execution_count": 1,
   "metadata": {
    "collapsed": true,
    "pycharm": {
     "is_executing": false
    }
   },
   "outputs": [],
   "source": [
    "import pandas as pd\n",
    "import numpy as np\n",
    "import matplotlib as mpl\n",
    "import matplotlib.pyplot as plt"
   ]
  },
  {
   "cell_type": "code",
   "execution_count": 2,
   "outputs": [
    {
     "name": "stdout",
     "text": [
      "Python 3.7.9\n"
     ],
     "output_type": "stream"
    }
   ],
   "source": [
    "!python --version"
   ],
   "metadata": {
    "collapsed": false,
    "pycharm": {
     "name": "#%%\n",
     "is_executing": false
    }
   }
  },
  {
   "cell_type": "code",
   "execution_count": 3,
   "outputs": [],
   "source": [
    "## Website\n",
    "\n",
    "## https://www.jetbrains.com/help/pycharm/jupyter-notebook-support.html#get-started"
   ],
   "metadata": {
    "collapsed": false,
    "pycharm": {
     "name": "#%%\n",
     "is_executing": false
    }
   }
  },
  {
   "cell_type": "code",
   "execution_count": 4,
   "outputs": [
    {
     "data": {
      "text/plain": "'1.1.2'"
     },
     "metadata": {},
     "output_type": "execute_result",
     "execution_count": 4
    }
   ],
   "source": [
    "pd.__version__"
   ],
   "metadata": {
    "collapsed": false,
    "pycharm": {
     "name": "#%%\n",
     "is_executing": false
    }
   }
  },
  {
   "cell_type": "code",
   "execution_count": 5,
   "outputs": [],
   "source": [
    "crude_oil_data = pd.read_csv('../data/U.S._crude_oil_production.csv')\n",
    "crude_gas_data = pd.read_csv('../data/U.S._natural_gas_production.csv')"
   ],
   "metadata": {
    "collapsed": false,
    "pycharm": {
     "name": "#%%\n",
     "is_executing": false
    }
   }
  },
  {
   "cell_type": "code",
   "execution_count": 6,
   "outputs": [
    {
     "data": {
      "text/plain": "        Month  U.S. Crude Oil   Alabama  Alaska  Arkansas  Arizona  \\\n0  2008-06-01             5138       21     655        17        0   \n1  2008-07-01             5177       21     640        17        0   \n2  2008-08-01             5003       21     544        17        0   \n3  2008-09-01             3974       21     681        16        0   \n4  2008-10-01             4738       21     716        17        0   \n\n   California  Colorado  Federal Offshore Gulf of Mexico Crude Oil  \\\n0         583        82                                       1326   \n1         586        81                                       1372   \n2         588        82                                       1272   \n3         587        88                                        242   \n4         586        86                                        803   \n\n   Federal Offshore Pacific Crude Oil  ...  Ohio  Oklahoma  Pennsylvania  \\\n0                                  67  ...    14       186             8   \n1                                  61  ...    14       184             8   \n2                                  70  ...    14       188             8   \n3                                  67  ...    14       186             8   \n4                                  66  ...    14       185             8   \n\n   South Dakota  Wyoming  West Virginia  Virginia  Utah  Texas  Tennessee  \n0             5      144              6         0    60   1097          1  \n1             5      145              5         0    61   1111          1  \n2             5      145              6         0    62   1110          1  \n3             5      144              6         0    63   1055          1  \n4             5      145              6         0    64   1125          1  \n\n[5 rows x 36 columns]",
      "text/html": "<div>\n<style scoped>\n    .dataframe tbody tr th:only-of-type {\n        vertical-align: middle;\n    }\n\n    .dataframe tbody tr th {\n        vertical-align: top;\n    }\n\n    .dataframe thead th {\n        text-align: right;\n    }\n</style>\n<table border=\"1\" class=\"dataframe\">\n  <thead>\n    <tr style=\"text-align: right;\">\n      <th></th>\n      <th>Month</th>\n      <th>U.S. Crude Oil</th>\n      <th>Alabama</th>\n      <th>Alaska</th>\n      <th>Arkansas</th>\n      <th>Arizona</th>\n      <th>California</th>\n      <th>Colorado</th>\n      <th>Federal Offshore Gulf of Mexico Crude Oil</th>\n      <th>Federal Offshore Pacific Crude Oil</th>\n      <th>...</th>\n      <th>Ohio</th>\n      <th>Oklahoma</th>\n      <th>Pennsylvania</th>\n      <th>South Dakota</th>\n      <th>Wyoming</th>\n      <th>West Virginia</th>\n      <th>Virginia</th>\n      <th>Utah</th>\n      <th>Texas</th>\n      <th>Tennessee</th>\n    </tr>\n  </thead>\n  <tbody>\n    <tr>\n      <th>0</th>\n      <td>2008-06-01</td>\n      <td>5138</td>\n      <td>21</td>\n      <td>655</td>\n      <td>17</td>\n      <td>0</td>\n      <td>583</td>\n      <td>82</td>\n      <td>1326</td>\n      <td>67</td>\n      <td>...</td>\n      <td>14</td>\n      <td>186</td>\n      <td>8</td>\n      <td>5</td>\n      <td>144</td>\n      <td>6</td>\n      <td>0</td>\n      <td>60</td>\n      <td>1097</td>\n      <td>1</td>\n    </tr>\n    <tr>\n      <th>1</th>\n      <td>2008-07-01</td>\n      <td>5177</td>\n      <td>21</td>\n      <td>640</td>\n      <td>17</td>\n      <td>0</td>\n      <td>586</td>\n      <td>81</td>\n      <td>1372</td>\n      <td>61</td>\n      <td>...</td>\n      <td>14</td>\n      <td>184</td>\n      <td>8</td>\n      <td>5</td>\n      <td>145</td>\n      <td>5</td>\n      <td>0</td>\n      <td>61</td>\n      <td>1111</td>\n      <td>1</td>\n    </tr>\n    <tr>\n      <th>2</th>\n      <td>2008-08-01</td>\n      <td>5003</td>\n      <td>21</td>\n      <td>544</td>\n      <td>17</td>\n      <td>0</td>\n      <td>588</td>\n      <td>82</td>\n      <td>1272</td>\n      <td>70</td>\n      <td>...</td>\n      <td>14</td>\n      <td>188</td>\n      <td>8</td>\n      <td>5</td>\n      <td>145</td>\n      <td>6</td>\n      <td>0</td>\n      <td>62</td>\n      <td>1110</td>\n      <td>1</td>\n    </tr>\n    <tr>\n      <th>3</th>\n      <td>2008-09-01</td>\n      <td>3974</td>\n      <td>21</td>\n      <td>681</td>\n      <td>16</td>\n      <td>0</td>\n      <td>587</td>\n      <td>88</td>\n      <td>242</td>\n      <td>67</td>\n      <td>...</td>\n      <td>14</td>\n      <td>186</td>\n      <td>8</td>\n      <td>5</td>\n      <td>144</td>\n      <td>6</td>\n      <td>0</td>\n      <td>63</td>\n      <td>1055</td>\n      <td>1</td>\n    </tr>\n    <tr>\n      <th>4</th>\n      <td>2008-10-01</td>\n      <td>4738</td>\n      <td>21</td>\n      <td>716</td>\n      <td>17</td>\n      <td>0</td>\n      <td>586</td>\n      <td>86</td>\n      <td>803</td>\n      <td>66</td>\n      <td>...</td>\n      <td>14</td>\n      <td>185</td>\n      <td>8</td>\n      <td>5</td>\n      <td>145</td>\n      <td>6</td>\n      <td>0</td>\n      <td>64</td>\n      <td>1125</td>\n      <td>1</td>\n    </tr>\n  </tbody>\n</table>\n<p>5 rows × 36 columns</p>\n</div>"
     },
     "metadata": {},
     "output_type": "execute_result",
     "execution_count": 6
    }
   ],
   "source": [
    "crude_oil_data.head(5)"
   ],
   "metadata": {
    "collapsed": false,
    "pycharm": {
     "name": "#%%\n",
     "is_executing": false
    }
   }
  },
  {
   "cell_type": "code",
   "execution_count": 7,
   "outputs": [
    {
     "data": {
      "text/plain": "        Month   U.S.  Alaska  Arkansas  Kansas  Other States  \\\n0  2008-06-01  70626    8875      1196    1024          2995   \n1  2008-07-01  71137    8375      1256    1034          3150   \n2  2008-08-01  70760    8739      1313    1033          3092   \n3  2008-09-01  63984    9221      1316    1032          2953   \n4  2008-10-01  69464    9674      1375    1026          3113   \n\n   Federal Offshore--Gulf of Mexico  Wyoming  West Virginia  Utah  \\\n0                              7339     6839            670  1198   \n1                              7468     6940            674  1200   \n2                              6868     6835            678  1277   \n3                              2100     6447            657  1276   \n4                              4368     6909            692  1241   \n\n   Pennsylvania  Texas  Oklahoma  Ohio  North Dakota  New Mexico  Montana  \\\n0           540  21446      5241   224           243        3975      323   \n1           512  21547      5256   220           243        4179      324   \n2           529  21777      4896   220           249        4092      327   \n3           542  20435      5224   224           260        4069      330   \n4           543  21948      5126   236           267        4168      330   \n\n   Louisiana  Colorado  California  \n0       3989      3576         932  \n1       4008      3834         919  \n2       3896      4056         881  \n3       2960      4049         890  \n4       3718      3860         870  ",
      "text/html": "<div>\n<style scoped>\n    .dataframe tbody tr th:only-of-type {\n        vertical-align: middle;\n    }\n\n    .dataframe tbody tr th {\n        vertical-align: top;\n    }\n\n    .dataframe thead th {\n        text-align: right;\n    }\n</style>\n<table border=\"1\" class=\"dataframe\">\n  <thead>\n    <tr style=\"text-align: right;\">\n      <th></th>\n      <th>Month</th>\n      <th>U.S.</th>\n      <th>Alaska</th>\n      <th>Arkansas</th>\n      <th>Kansas</th>\n      <th>Other States</th>\n      <th>Federal Offshore--Gulf of Mexico</th>\n      <th>Wyoming</th>\n      <th>West Virginia</th>\n      <th>Utah</th>\n      <th>Pennsylvania</th>\n      <th>Texas</th>\n      <th>Oklahoma</th>\n      <th>Ohio</th>\n      <th>North Dakota</th>\n      <th>New Mexico</th>\n      <th>Montana</th>\n      <th>Louisiana</th>\n      <th>Colorado</th>\n      <th>California</th>\n    </tr>\n  </thead>\n  <tbody>\n    <tr>\n      <th>0</th>\n      <td>2008-06-01</td>\n      <td>70626</td>\n      <td>8875</td>\n      <td>1196</td>\n      <td>1024</td>\n      <td>2995</td>\n      <td>7339</td>\n      <td>6839</td>\n      <td>670</td>\n      <td>1198</td>\n      <td>540</td>\n      <td>21446</td>\n      <td>5241</td>\n      <td>224</td>\n      <td>243</td>\n      <td>3975</td>\n      <td>323</td>\n      <td>3989</td>\n      <td>3576</td>\n      <td>932</td>\n    </tr>\n    <tr>\n      <th>1</th>\n      <td>2008-07-01</td>\n      <td>71137</td>\n      <td>8375</td>\n      <td>1256</td>\n      <td>1034</td>\n      <td>3150</td>\n      <td>7468</td>\n      <td>6940</td>\n      <td>674</td>\n      <td>1200</td>\n      <td>512</td>\n      <td>21547</td>\n      <td>5256</td>\n      <td>220</td>\n      <td>243</td>\n      <td>4179</td>\n      <td>324</td>\n      <td>4008</td>\n      <td>3834</td>\n      <td>919</td>\n    </tr>\n    <tr>\n      <th>2</th>\n      <td>2008-08-01</td>\n      <td>70760</td>\n      <td>8739</td>\n      <td>1313</td>\n      <td>1033</td>\n      <td>3092</td>\n      <td>6868</td>\n      <td>6835</td>\n      <td>678</td>\n      <td>1277</td>\n      <td>529</td>\n      <td>21777</td>\n      <td>4896</td>\n      <td>220</td>\n      <td>249</td>\n      <td>4092</td>\n      <td>327</td>\n      <td>3896</td>\n      <td>4056</td>\n      <td>881</td>\n    </tr>\n    <tr>\n      <th>3</th>\n      <td>2008-09-01</td>\n      <td>63984</td>\n      <td>9221</td>\n      <td>1316</td>\n      <td>1032</td>\n      <td>2953</td>\n      <td>2100</td>\n      <td>6447</td>\n      <td>657</td>\n      <td>1276</td>\n      <td>542</td>\n      <td>20435</td>\n      <td>5224</td>\n      <td>224</td>\n      <td>260</td>\n      <td>4069</td>\n      <td>330</td>\n      <td>2960</td>\n      <td>4049</td>\n      <td>890</td>\n    </tr>\n    <tr>\n      <th>4</th>\n      <td>2008-10-01</td>\n      <td>69464</td>\n      <td>9674</td>\n      <td>1375</td>\n      <td>1026</td>\n      <td>3113</td>\n      <td>4368</td>\n      <td>6909</td>\n      <td>692</td>\n      <td>1241</td>\n      <td>543</td>\n      <td>21948</td>\n      <td>5126</td>\n      <td>236</td>\n      <td>267</td>\n      <td>4168</td>\n      <td>330</td>\n      <td>3718</td>\n      <td>3860</td>\n      <td>870</td>\n    </tr>\n  </tbody>\n</table>\n</div>"
     },
     "metadata": {},
     "output_type": "execute_result",
     "execution_count": 7
    }
   ],
   "source": [
    "crude_gas_data.head(5)"
   ],
   "metadata": {
    "collapsed": false,
    "pycharm": {
     "name": "#%%\n",
     "is_executing": false
    }
   }
  },
  {
   "cell_type": "code",
   "execution_count": 8,
   "outputs": [
    {
     "data": {
      "text/plain": "          Month  U.S. Crude Oil   Alabama  Alaska  Arkansas  Arizona  \\\n116  2018-02-01            10248       17     513        14        0   \n117  2018-03-01            10461       17     512        14        0   \n118  2018-04-01            10475       17     497        14        0   \n119  2018-05-01            10443       16     496        14        0   \n120  2018-06-01            10674       16     451        14        0   \n\n     California  Colorado  Federal Offshore Gulf of Mexico Crude Oil  \\\n116         463       428                                       1704   \n117         462       428                                       1681   \n118         465       447                                       1583   \n119         464       447                                       1504   \n120         462       423                                       1658   \n\n     Federal Offshore Pacific Crude Oil  ...  Ohio  Oklahoma  Pennsylvania  \\\n116                                  14  ...    54       527            18   \n117                                  16  ...    54       543            18   \n118                                  16  ...    54       531            19   \n119                                  15  ...    58       529            19   \n120                                  15  ...    65       526            18   \n\n     South Dakota  Wyoming  West Virginia  Virginia  Utah  Texas  Tennessee  \n116             4      223             27         0   100   4015          1  \n117             4      231             29         0   104   4185          1  \n118             4      232             29         0   103   4222          1  \n119             3      228             29         0    97   4245          1  \n120             4      226             30         0    94   4410          1  \n\n[5 rows x 36 columns]",
      "text/html": "<div>\n<style scoped>\n    .dataframe tbody tr th:only-of-type {\n        vertical-align: middle;\n    }\n\n    .dataframe tbody tr th {\n        vertical-align: top;\n    }\n\n    .dataframe thead th {\n        text-align: right;\n    }\n</style>\n<table border=\"1\" class=\"dataframe\">\n  <thead>\n    <tr style=\"text-align: right;\">\n      <th></th>\n      <th>Month</th>\n      <th>U.S. Crude Oil</th>\n      <th>Alabama</th>\n      <th>Alaska</th>\n      <th>Arkansas</th>\n      <th>Arizona</th>\n      <th>California</th>\n      <th>Colorado</th>\n      <th>Federal Offshore Gulf of Mexico Crude Oil</th>\n      <th>Federal Offshore Pacific Crude Oil</th>\n      <th>...</th>\n      <th>Ohio</th>\n      <th>Oklahoma</th>\n      <th>Pennsylvania</th>\n      <th>South Dakota</th>\n      <th>Wyoming</th>\n      <th>West Virginia</th>\n      <th>Virginia</th>\n      <th>Utah</th>\n      <th>Texas</th>\n      <th>Tennessee</th>\n    </tr>\n  </thead>\n  <tbody>\n    <tr>\n      <th>116</th>\n      <td>2018-02-01</td>\n      <td>10248</td>\n      <td>17</td>\n      <td>513</td>\n      <td>14</td>\n      <td>0</td>\n      <td>463</td>\n      <td>428</td>\n      <td>1704</td>\n      <td>14</td>\n      <td>...</td>\n      <td>54</td>\n      <td>527</td>\n      <td>18</td>\n      <td>4</td>\n      <td>223</td>\n      <td>27</td>\n      <td>0</td>\n      <td>100</td>\n      <td>4015</td>\n      <td>1</td>\n    </tr>\n    <tr>\n      <th>117</th>\n      <td>2018-03-01</td>\n      <td>10461</td>\n      <td>17</td>\n      <td>512</td>\n      <td>14</td>\n      <td>0</td>\n      <td>462</td>\n      <td>428</td>\n      <td>1681</td>\n      <td>16</td>\n      <td>...</td>\n      <td>54</td>\n      <td>543</td>\n      <td>18</td>\n      <td>4</td>\n      <td>231</td>\n      <td>29</td>\n      <td>0</td>\n      <td>104</td>\n      <td>4185</td>\n      <td>1</td>\n    </tr>\n    <tr>\n      <th>118</th>\n      <td>2018-04-01</td>\n      <td>10475</td>\n      <td>17</td>\n      <td>497</td>\n      <td>14</td>\n      <td>0</td>\n      <td>465</td>\n      <td>447</td>\n      <td>1583</td>\n      <td>16</td>\n      <td>...</td>\n      <td>54</td>\n      <td>531</td>\n      <td>19</td>\n      <td>4</td>\n      <td>232</td>\n      <td>29</td>\n      <td>0</td>\n      <td>103</td>\n      <td>4222</td>\n      <td>1</td>\n    </tr>\n    <tr>\n      <th>119</th>\n      <td>2018-05-01</td>\n      <td>10443</td>\n      <td>16</td>\n      <td>496</td>\n      <td>14</td>\n      <td>0</td>\n      <td>464</td>\n      <td>447</td>\n      <td>1504</td>\n      <td>15</td>\n      <td>...</td>\n      <td>58</td>\n      <td>529</td>\n      <td>19</td>\n      <td>3</td>\n      <td>228</td>\n      <td>29</td>\n      <td>0</td>\n      <td>97</td>\n      <td>4245</td>\n      <td>1</td>\n    </tr>\n    <tr>\n      <th>120</th>\n      <td>2018-06-01</td>\n      <td>10674</td>\n      <td>16</td>\n      <td>451</td>\n      <td>14</td>\n      <td>0</td>\n      <td>462</td>\n      <td>423</td>\n      <td>1658</td>\n      <td>15</td>\n      <td>...</td>\n      <td>65</td>\n      <td>526</td>\n      <td>18</td>\n      <td>4</td>\n      <td>226</td>\n      <td>30</td>\n      <td>0</td>\n      <td>94</td>\n      <td>4410</td>\n      <td>1</td>\n    </tr>\n  </tbody>\n</table>\n<p>5 rows × 36 columns</p>\n</div>"
     },
     "metadata": {},
     "output_type": "execute_result",
     "execution_count": 8
    }
   ],
   "source": [
    "crude_oil_data.tail()"
   ],
   "metadata": {
    "collapsed": false,
    "pycharm": {
     "name": "#%%\n",
     "is_executing": false
    }
   }
  },
  {
   "cell_type": "code",
   "execution_count": 9,
   "outputs": [
    {
     "data": {
      "text/plain": "(121, 36)"
     },
     "metadata": {},
     "output_type": "execute_result",
     "execution_count": 9
    }
   ],
   "source": [
    "crude_oil_data.shape"
   ],
   "metadata": {
    "collapsed": false,
    "pycharm": {
     "name": "#%%\n",
     "is_executing": false
    }
   }
  },
  {
   "cell_type": "code",
   "execution_count": 10,
   "outputs": [
    {
     "data": {
      "text/plain": "Index(['Month', 'U.S. Crude Oil ', 'Alabama', 'Alaska', 'Arkansas', 'Arizona',\n       'California', 'Colorado', 'Federal Offshore Gulf of Mexico Crude Oil',\n       'Federal Offshore Pacific Crude Oil', 'Florida', 'Idaho', 'Illinois',\n       'Indiana', 'Kansas', 'Kentucky', 'Louisiana', 'Michigan', 'Mississippi',\n       'Missouri', 'Nebraska', 'Montana', 'Nevada', 'New Mexico', 'New York',\n       'North Dakota', 'Ohio', 'Oklahoma', 'Pennsylvania', 'South Dakota',\n       'Wyoming', 'West Virginia', 'Virginia', 'Utah', 'Texas', 'Tennessee'],\n      dtype='object')"
     },
     "metadata": {},
     "output_type": "execute_result",
     "execution_count": 10
    }
   ],
   "source": [
    "crude_oil_data.columns"
   ],
   "metadata": {
    "collapsed": false,
    "pycharm": {
     "name": "#%%\n",
     "is_executing": false
    }
   }
  },
  {
   "cell_type": "code",
   "execution_count": 11,
   "outputs": [
    {
     "data": {
      "text/plain": "Index(['Arizona', 'Virginia'], dtype='object')"
     },
     "metadata": {},
     "output_type": "execute_result",
     "execution_count": 11
    }
   ],
   "source": [
    "crude_oil_data.columns[(crude_oil_data.sum(axis=0)) == 0]"
   ],
   "metadata": {
    "collapsed": false,
    "pycharm": {
     "name": "#%%\n",
     "is_executing": false
    }
   }
  },
  {
   "cell_type": "code",
   "execution_count": 12,
   "outputs": [
    {
     "data": {
      "text/plain": "Index(['Month', 'U.S. Crude Oil ', 'Alabama', 'Alaska', 'Arkansas',\n       'California', 'Colorado', 'Federal Offshore Gulf of Mexico Crude Oil',\n       'Federal Offshore Pacific Crude Oil', 'Florida', 'Idaho', 'Illinois',\n       'Indiana', 'Kansas', 'Kentucky', 'Louisiana', 'Michigan', 'Mississippi',\n       'Missouri', 'Nebraska', 'Montana', 'Nevada', 'New Mexico', 'New York',\n       'North Dakota', 'Ohio', 'Oklahoma', 'Pennsylvania', 'South Dakota',\n       'Wyoming', 'West Virginia', 'Utah', 'Texas', 'Tennessee'],\n      dtype='object')"
     },
     "metadata": {},
     "output_type": "execute_result",
     "execution_count": 12
    }
   ],
   "source": [
    "crude_oil_data.drop(['Arizona', 'Virginia'], inplace=True, axis=1)\n",
    "crude_oil_data.columns"
   ],
   "metadata": {
    "collapsed": false,
    "pycharm": {
     "name": "#%%\n",
     "is_executing": false
    }
   }
  },
  {
   "cell_type": "code",
   "execution_count": 13,
   "outputs": [
    {
     "data": {
      "text/plain": "0   2008-06-01\n1   2008-07-01\n2   2008-08-01\n3   2008-09-01\n4   2008-10-01\nName: Date, dtype: datetime64[ns]"
     },
     "metadata": {},
     "output_type": "execute_result",
     "execution_count": 13
    }
   ],
   "source": [
    "crude_oil_data['Date'] = pd.to_datetime(crude_oil_data['Month'])\n",
    "crude_oil_data['Date'].head()"
   ],
   "metadata": {
    "collapsed": false,
    "pycharm": {
     "name": "#%%\n",
     "is_executing": false
    }
   }
  },
  {
   "cell_type": "code",
   "execution_count": 14,
   "outputs": [
    {
     "data": {
      "text/plain": "Index(['U.S. Crude Oil ', 'Alabama', 'Alaska', 'Arkansas', 'California',\n       'Colorado', 'Federal Offshore Gulf of Mexico Crude Oil',\n       'Federal Offshore Pacific Crude Oil', 'Florida', 'Idaho', 'Illinois',\n       'Indiana', 'Kansas', 'Kentucky', 'Louisiana', 'Michigan', 'Mississippi',\n       'Missouri', 'Nebraska', 'Montana', 'Nevada', 'New Mexico', 'New York',\n       'North Dakota', 'Ohio', 'Oklahoma', 'Pennsylvania', 'South Dakota',\n       'Wyoming', 'West Virginia', 'Utah', 'Texas', 'Tennessee', 'Date'],\n      dtype='object')"
     },
     "metadata": {},
     "output_type": "execute_result",
     "execution_count": 14
    }
   ],
   "source": [
    "crude_oil_data.drop('Month', inplace=True, axis=1)\n",
    "crude_oil_data.columns"
   ],
   "metadata": {
    "collapsed": false,
    "pycharm": {
     "name": "#%%\n",
     "is_executing": false
    }
   }
  },
  {
   "cell_type": "code",
   "execution_count": 16,
   "outputs": [
    {
     "data": {
      "text/plain": "Index(['U.S. Crude Oil ', 'Alabama', 'Alaska', 'Arkansas', 'California',\n       'Colorado', 'Mexico', 'Pacific', 'Florida', 'Idaho', 'Illinois',\n       'Indiana', 'Kansas', 'Kentucky', 'Louisiana', 'Michigan', 'Mississippi',\n       'Missouri', 'Nebraska', 'Montana', 'Nevada', 'New Mexico', 'New York',\n       'North Dakota', 'Ohio', 'Oklahoma', 'Pennsylvania', 'South Dakota',\n       'Wyoming', 'West Virginia', 'Utah', 'Texas', 'Tennessee', 'Date'],\n      dtype='object')"
     },
     "metadata": {},
     "output_type": "execute_result",
     "execution_count": 16
    }
   ],
   "source": [
    "crude_oil_data = crude_oil_data.rename(columns={'Federal Offshore Gulf of Mexico Crude Oil': 'Mexico', 'Federal Offshore Pacific Crude Oil': 'Pacific'})\n",
    "crude_oil_data.columns"
   ],
   "metadata": {
    "collapsed": false,
    "pycharm": {
     "name": "#%%\n",
     "is_executing": false
    }
   }
  },
  {
   "cell_type": "code",
   "execution_count": 17,
   "outputs": [
    {
     "data": {
      "text/plain": "61     2013\n72     2014\n46     2012\n68     2014\n103    2017\n111    2017\n74     2014\n8      2009\n76     2014\n29     2010\nName: Year, dtype: int64"
     },
     "metadata": {},
     "output_type": "execute_result",
     "execution_count": 17
    }
   ],
   "source": [
    "crude_oil_data['Year'] = crude_oil_data['Date'].dt.year\n",
    "crude_oil_data['Year'].sample(10)"
   ],
   "metadata": {
    "collapsed": false,
    "pycharm": {
     "name": "#%%\n",
     "is_executing": false
    }
   }
  },
  {
   "cell_type": "code",
   "execution_count": 18,
   "outputs": [
    {
     "data": {
      "text/plain": "20      2\n3       9\n11      5\n88     10\n109     7\n74      8\n47      5\n116     2\n29     11\n80      2\nName: Month, dtype: int64"
     },
     "metadata": {},
     "output_type": "execute_result",
     "execution_count": 18
    }
   ],
   "source": [
    "crude_oil_data['Month'] = crude_oil_data['Date'].dt.month\n",
    "crude_oil_data['Month'].sample(10)"
   ],
   "metadata": {
    "collapsed": false,
    "pycharm": {
     "name": "#%%\n",
     "is_executing": false
    }
   }
  },
  {
   "cell_type": "code",
   "execution_count": 20,
   "outputs": [],
   "source": [
    "crude_oil_data.to_csv('../data/crude_oil_data_processed.csv', index = False)"
   ],
   "metadata": {
    "collapsed": false,
    "pycharm": {
     "name": "#%%\n",
     "is_executing": false
    }
   }
  },
  {
   "cell_type": "code",
   "execution_count": 21,
   "outputs": [
    {
     "data": {
      "text/plain": "       U.S. Crude Oil      Alabama      Alaska    Arkansas  California  \\\ncount       121.000000  121.000000  121.000000  121.000000  121.000000   \nmean       7423.694215   22.958678  540.404959   16.462810  536.388430   \nstd        1801.581601    3.773585   73.691879    1.483472   33.228595   \nmin        3974.000000   16.000000  398.000000   14.000000  461.000000   \n25%        5555.000000   20.000000  497.000000   15.000000  534.000000   \n50%        7355.000000   22.000000  523.000000   16.000000  544.000000   \n75%        9085.000000   26.000000  582.000000   18.000000  559.000000   \nmax       10674.000000   29.000000  728.000000   19.000000  588.000000   \n\n         Colorado       Mexico     Pacific     Florida       Idaho  ...  \\\ncount  121.000000   121.000000  121.000000  121.000000  121.000000  ...   \nmean   212.115702  1444.264463   43.115702    5.190083    0.066116  ...   \nstd    117.403165   216.197200   18.735523    1.273539    0.249517  ...   \nmin     81.000000   242.000000   13.000000    2.000000    0.000000  ...   \n25%     97.000000  1322.000000   18.000000    5.000000    0.000000  ...   \n50%    169.000000  1452.000000   51.000000    6.000000    0.000000  ...   \n75%    320.000000  1593.000000   56.000000    6.000000    0.000000  ...   \nmax    447.000000  1775.000000   70.000000    7.000000    1.000000  ...   \n\n         Oklahoma  Pennsylvania  South Dakota     Wyoming  West Virginia  \\\ncount  121.000000    121.000000    121.000000  121.000000     121.000000   \nmean   321.611570     13.876033      4.504132  180.429752      16.471074   \nstd    119.141958      4.497352      0.564564   34.097367      10.968952   \nmin    152.000000      8.000000      3.000000  137.000000       3.000000   \n25%    201.000000      9.000000      4.000000  147.000000       6.000000   \n50%    320.000000     13.000000      5.000000  174.000000      20.000000   \n75%    433.000000     18.000000      5.000000  209.000000      25.000000   \nmax    543.000000     22.000000      5.000000  251.000000      39.000000   \n\n             Utah        Texas  Tennessee         Year       Month  \ncount  121.000000   121.000000      121.0   121.000000  121.000000  \nmean    85.148760  2403.826446        1.0  2012.958678    6.495868  \nstd     16.662163  1025.413694        0.0     2.950697    3.452352  \nmin     59.000000  1055.000000        1.0  2008.000000    1.000000  \n25%     71.000000  1243.000000        1.0  2010.000000    4.000000  \n50%     85.000000  2533.000000        1.0  2013.000000    6.000000  \n75%     97.000000  3301.000000        1.0  2015.000000    9.000000  \nmax    116.000000  4410.000000        1.0  2018.000000   12.000000  \n\n[8 rows x 35 columns]",
      "text/html": "<div>\n<style scoped>\n    .dataframe tbody tr th:only-of-type {\n        vertical-align: middle;\n    }\n\n    .dataframe tbody tr th {\n        vertical-align: top;\n    }\n\n    .dataframe thead th {\n        text-align: right;\n    }\n</style>\n<table border=\"1\" class=\"dataframe\">\n  <thead>\n    <tr style=\"text-align: right;\">\n      <th></th>\n      <th>U.S. Crude Oil</th>\n      <th>Alabama</th>\n      <th>Alaska</th>\n      <th>Arkansas</th>\n      <th>California</th>\n      <th>Colorado</th>\n      <th>Mexico</th>\n      <th>Pacific</th>\n      <th>Florida</th>\n      <th>Idaho</th>\n      <th>...</th>\n      <th>Oklahoma</th>\n      <th>Pennsylvania</th>\n      <th>South Dakota</th>\n      <th>Wyoming</th>\n      <th>West Virginia</th>\n      <th>Utah</th>\n      <th>Texas</th>\n      <th>Tennessee</th>\n      <th>Year</th>\n      <th>Month</th>\n    </tr>\n  </thead>\n  <tbody>\n    <tr>\n      <th>count</th>\n      <td>121.000000</td>\n      <td>121.000000</td>\n      <td>121.000000</td>\n      <td>121.000000</td>\n      <td>121.000000</td>\n      <td>121.000000</td>\n      <td>121.000000</td>\n      <td>121.000000</td>\n      <td>121.000000</td>\n      <td>121.000000</td>\n      <td>...</td>\n      <td>121.000000</td>\n      <td>121.000000</td>\n      <td>121.000000</td>\n      <td>121.000000</td>\n      <td>121.000000</td>\n      <td>121.000000</td>\n      <td>121.000000</td>\n      <td>121.0</td>\n      <td>121.000000</td>\n      <td>121.000000</td>\n    </tr>\n    <tr>\n      <th>mean</th>\n      <td>7423.694215</td>\n      <td>22.958678</td>\n      <td>540.404959</td>\n      <td>16.462810</td>\n      <td>536.388430</td>\n      <td>212.115702</td>\n      <td>1444.264463</td>\n      <td>43.115702</td>\n      <td>5.190083</td>\n      <td>0.066116</td>\n      <td>...</td>\n      <td>321.611570</td>\n      <td>13.876033</td>\n      <td>4.504132</td>\n      <td>180.429752</td>\n      <td>16.471074</td>\n      <td>85.148760</td>\n      <td>2403.826446</td>\n      <td>1.0</td>\n      <td>2012.958678</td>\n      <td>6.495868</td>\n    </tr>\n    <tr>\n      <th>std</th>\n      <td>1801.581601</td>\n      <td>3.773585</td>\n      <td>73.691879</td>\n      <td>1.483472</td>\n      <td>33.228595</td>\n      <td>117.403165</td>\n      <td>216.197200</td>\n      <td>18.735523</td>\n      <td>1.273539</td>\n      <td>0.249517</td>\n      <td>...</td>\n      <td>119.141958</td>\n      <td>4.497352</td>\n      <td>0.564564</td>\n      <td>34.097367</td>\n      <td>10.968952</td>\n      <td>16.662163</td>\n      <td>1025.413694</td>\n      <td>0.0</td>\n      <td>2.950697</td>\n      <td>3.452352</td>\n    </tr>\n    <tr>\n      <th>min</th>\n      <td>3974.000000</td>\n      <td>16.000000</td>\n      <td>398.000000</td>\n      <td>14.000000</td>\n      <td>461.000000</td>\n      <td>81.000000</td>\n      <td>242.000000</td>\n      <td>13.000000</td>\n      <td>2.000000</td>\n      <td>0.000000</td>\n      <td>...</td>\n      <td>152.000000</td>\n      <td>8.000000</td>\n      <td>3.000000</td>\n      <td>137.000000</td>\n      <td>3.000000</td>\n      <td>59.000000</td>\n      <td>1055.000000</td>\n      <td>1.0</td>\n      <td>2008.000000</td>\n      <td>1.000000</td>\n    </tr>\n    <tr>\n      <th>25%</th>\n      <td>5555.000000</td>\n      <td>20.000000</td>\n      <td>497.000000</td>\n      <td>15.000000</td>\n      <td>534.000000</td>\n      <td>97.000000</td>\n      <td>1322.000000</td>\n      <td>18.000000</td>\n      <td>5.000000</td>\n      <td>0.000000</td>\n      <td>...</td>\n      <td>201.000000</td>\n      <td>9.000000</td>\n      <td>4.000000</td>\n      <td>147.000000</td>\n      <td>6.000000</td>\n      <td>71.000000</td>\n      <td>1243.000000</td>\n      <td>1.0</td>\n      <td>2010.000000</td>\n      <td>4.000000</td>\n    </tr>\n    <tr>\n      <th>50%</th>\n      <td>7355.000000</td>\n      <td>22.000000</td>\n      <td>523.000000</td>\n      <td>16.000000</td>\n      <td>544.000000</td>\n      <td>169.000000</td>\n      <td>1452.000000</td>\n      <td>51.000000</td>\n      <td>6.000000</td>\n      <td>0.000000</td>\n      <td>...</td>\n      <td>320.000000</td>\n      <td>13.000000</td>\n      <td>5.000000</td>\n      <td>174.000000</td>\n      <td>20.000000</td>\n      <td>85.000000</td>\n      <td>2533.000000</td>\n      <td>1.0</td>\n      <td>2013.000000</td>\n      <td>6.000000</td>\n    </tr>\n    <tr>\n      <th>75%</th>\n      <td>9085.000000</td>\n      <td>26.000000</td>\n      <td>582.000000</td>\n      <td>18.000000</td>\n      <td>559.000000</td>\n      <td>320.000000</td>\n      <td>1593.000000</td>\n      <td>56.000000</td>\n      <td>6.000000</td>\n      <td>0.000000</td>\n      <td>...</td>\n      <td>433.000000</td>\n      <td>18.000000</td>\n      <td>5.000000</td>\n      <td>209.000000</td>\n      <td>25.000000</td>\n      <td>97.000000</td>\n      <td>3301.000000</td>\n      <td>1.0</td>\n      <td>2015.000000</td>\n      <td>9.000000</td>\n    </tr>\n    <tr>\n      <th>max</th>\n      <td>10674.000000</td>\n      <td>29.000000</td>\n      <td>728.000000</td>\n      <td>19.000000</td>\n      <td>588.000000</td>\n      <td>447.000000</td>\n      <td>1775.000000</td>\n      <td>70.000000</td>\n      <td>7.000000</td>\n      <td>1.000000</td>\n      <td>...</td>\n      <td>543.000000</td>\n      <td>22.000000</td>\n      <td>5.000000</td>\n      <td>251.000000</td>\n      <td>39.000000</td>\n      <td>116.000000</td>\n      <td>4410.000000</td>\n      <td>1.0</td>\n      <td>2018.000000</td>\n      <td>12.000000</td>\n    </tr>\n  </tbody>\n</table>\n<p>8 rows × 35 columns</p>\n</div>"
     },
     "metadata": {},
     "output_type": "execute_result",
     "execution_count": 21
    }
   ],
   "source": [
    "crude_oil_data.describe()"
   ],
   "metadata": {
    "collapsed": false,
    "pycharm": {
     "name": "#%%\n",
     "is_executing": false
    }
   }
  },
  {
   "cell_type": "code",
   "execution_count": 22,
   "outputs": [
    {
     "data": {
      "text/plain": "   U.S. Crude Oil   Alabama  Alaska  Arkansas  California  Colorado  Mexico  \\\n0             5138       21     655        17         583        82    1326   \n1             5177       21     640        17         586        81    1372   \n2             5003       21     544        17         588        82    1272   \n3             3974       21     681        16         587        88     242   \n4             4738       21     716        17         586        86     803   \n\n   Pacific  Florida  Idaho  ...  Pennsylvania  South Dakota  Wyoming  \\\n0       67        5      0  ...             8             5      144   \n1       61        6      0  ...             8             5      145   \n2       70        5      0  ...             8             5      145   \n3       67        5      0  ...             8             5      144   \n4       66        6      0  ...             8             5      145   \n\n   West Virginia  Utah  Texas  Tennessee        Date  Year  Month  \n0              6    60   1097          1  2008-06-01  2008      6  \n1              5    61   1111          1  2008-07-01  2008      7  \n2              6    62   1110          1  2008-08-01  2008      8  \n3              6    63   1055          1  2008-09-01  2008      9  \n4              6    64   1125          1  2008-10-01  2008     10  \n\n[5 rows x 36 columns]",
      "text/html": "<div>\n<style scoped>\n    .dataframe tbody tr th:only-of-type {\n        vertical-align: middle;\n    }\n\n    .dataframe tbody tr th {\n        vertical-align: top;\n    }\n\n    .dataframe thead th {\n        text-align: right;\n    }\n</style>\n<table border=\"1\" class=\"dataframe\">\n  <thead>\n    <tr style=\"text-align: right;\">\n      <th></th>\n      <th>U.S. Crude Oil</th>\n      <th>Alabama</th>\n      <th>Alaska</th>\n      <th>Arkansas</th>\n      <th>California</th>\n      <th>Colorado</th>\n      <th>Mexico</th>\n      <th>Pacific</th>\n      <th>Florida</th>\n      <th>Idaho</th>\n      <th>...</th>\n      <th>Pennsylvania</th>\n      <th>South Dakota</th>\n      <th>Wyoming</th>\n      <th>West Virginia</th>\n      <th>Utah</th>\n      <th>Texas</th>\n      <th>Tennessee</th>\n      <th>Date</th>\n      <th>Year</th>\n      <th>Month</th>\n    </tr>\n  </thead>\n  <tbody>\n    <tr>\n      <th>0</th>\n      <td>5138</td>\n      <td>21</td>\n      <td>655</td>\n      <td>17</td>\n      <td>583</td>\n      <td>82</td>\n      <td>1326</td>\n      <td>67</td>\n      <td>5</td>\n      <td>0</td>\n      <td>...</td>\n      <td>8</td>\n      <td>5</td>\n      <td>144</td>\n      <td>6</td>\n      <td>60</td>\n      <td>1097</td>\n      <td>1</td>\n      <td>2008-06-01</td>\n      <td>2008</td>\n      <td>6</td>\n    </tr>\n    <tr>\n      <th>1</th>\n      <td>5177</td>\n      <td>21</td>\n      <td>640</td>\n      <td>17</td>\n      <td>586</td>\n      <td>81</td>\n      <td>1372</td>\n      <td>61</td>\n      <td>6</td>\n      <td>0</td>\n      <td>...</td>\n      <td>8</td>\n      <td>5</td>\n      <td>145</td>\n      <td>5</td>\n      <td>61</td>\n      <td>1111</td>\n      <td>1</td>\n      <td>2008-07-01</td>\n      <td>2008</td>\n      <td>7</td>\n    </tr>\n    <tr>\n      <th>2</th>\n      <td>5003</td>\n      <td>21</td>\n      <td>544</td>\n      <td>17</td>\n      <td>588</td>\n      <td>82</td>\n      <td>1272</td>\n      <td>70</td>\n      <td>5</td>\n      <td>0</td>\n      <td>...</td>\n      <td>8</td>\n      <td>5</td>\n      <td>145</td>\n      <td>6</td>\n      <td>62</td>\n      <td>1110</td>\n      <td>1</td>\n      <td>2008-08-01</td>\n      <td>2008</td>\n      <td>8</td>\n    </tr>\n    <tr>\n      <th>3</th>\n      <td>3974</td>\n      <td>21</td>\n      <td>681</td>\n      <td>16</td>\n      <td>587</td>\n      <td>88</td>\n      <td>242</td>\n      <td>67</td>\n      <td>5</td>\n      <td>0</td>\n      <td>...</td>\n      <td>8</td>\n      <td>5</td>\n      <td>144</td>\n      <td>6</td>\n      <td>63</td>\n      <td>1055</td>\n      <td>1</td>\n      <td>2008-09-01</td>\n      <td>2008</td>\n      <td>9</td>\n    </tr>\n    <tr>\n      <th>4</th>\n      <td>4738</td>\n      <td>21</td>\n      <td>716</td>\n      <td>17</td>\n      <td>586</td>\n      <td>86</td>\n      <td>803</td>\n      <td>66</td>\n      <td>6</td>\n      <td>0</td>\n      <td>...</td>\n      <td>8</td>\n      <td>5</td>\n      <td>145</td>\n      <td>6</td>\n      <td>64</td>\n      <td>1125</td>\n      <td>1</td>\n      <td>2008-10-01</td>\n      <td>2008</td>\n      <td>10</td>\n    </tr>\n  </tbody>\n</table>\n<p>5 rows × 36 columns</p>\n</div>"
     },
     "metadata": {},
     "output_type": "execute_result",
     "execution_count": 22
    }
   ],
   "source": [
    "crude_oil_data = pd.read_csv('../data/crude_oil_data_processed.csv')\n",
    "\n",
    "crude_oil_data.head(5)"
   ],
   "metadata": {
    "collapsed": false,
    "pycharm": {
     "name": "#%%\n",
     "is_executing": false
    }
   }
  },
  {
   "cell_type": "code",
   "execution_count": 23,
   "outputs": [
    {
     "data": {
      "text/plain": "0   2008-06-01\n1   2008-07-01\n2   2008-08-01\n3   2008-09-01\n4   2008-10-01\nName: Date, dtype: datetime64[ns]"
     },
     "metadata": {},
     "output_type": "execute_result",
     "execution_count": 23
    }
   ],
   "source": [
    "crude_oil_data['Date'] = pd.to_datetime(crude_oil_data['Date'])\n",
    "\n",
    "crude_oil_data['Date'].head()"
   ],
   "metadata": {
    "collapsed": false,
    "pycharm": {
     "name": "#%%\n",
     "is_executing": false
    }
   }
  },
  {
   "cell_type": "code",
   "execution_count": 24,
   "outputs": [
    {
     "data": {
      "text/plain": "Text(0.5, 1.0, 'U.S. Crude Oil Production')"
     },
     "metadata": {},
     "output_type": "execute_result",
     "execution_count": 24
    },
    {
     "data": {
      "text/plain": "<Figure size 864x576 with 1 Axes>",
      "image/png": "[encoded data removed]"
     },
     "metadata": {
      "needs_background": "light"
     },
     "output_type": "display_data"
    }
   ],
   "source": [
    "crude_oil_data.plot(x='Date', y='U.S. Crude Oil ', figsize=(12, 8), color='brown')\n",
    "\n",
    "plt.ylabel('Production')\n",
    "plt.title('U.S. Crude Oil Production')"
   ],
   "metadata": {
    "collapsed": false,
    "pycharm": {
     "name": "#%%\n",
     "is_executing": false
    }
   }
  }
 ],
 "metadata": {
  "kernelspec": {
   "display_name": "Python 3",
   "language": "python",
   "name": "python3"
  },
  "language_info": {
   "codemirror_mode": {
    "name": "ipython",
    "version": 2
   },
   "file_extension": ".py",
   "mimetype": "text/x-python",
   "name": "python",
   "nbconvert_exporter": "python",
   "pygments_lexer": "ipython2",
   "version": "2.7.6"
  },
  "pycharm": {
   "stem_cell": {
    "cell_type": "raw",
    "source": [],
    "metadata": {
     "collapsed": false
    }
   }
  }
 },
 "nbformat": 4,
 "nbformat_minor": 0
}